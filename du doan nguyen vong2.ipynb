{
 "cells": [
  {
   "cell_type": "code",
   "execution_count": 18,
   "metadata": {},
   "outputs": [],
   "source": [
    "import numpy as np\n",
    "import pandas as pd"
   ]
  },
  {
   "cell_type": "code",
   "execution_count": 19,
   "metadata": {},
   "outputs": [],
   "source": [
    "df = pd.read_csv(\"./Book1.csv\")"
   ]
  },
  {
   "cell_type": "code",
   "execution_count": 20,
   "metadata": {},
   "outputs": [],
   "source": [
    "B1 = float(input('Nhập học phí: '))\n",
    "B2 = float(input('Nhập điểm thi: '))\n",
    "B3 = int(input('Nhập địa điểm (1: miền bắc, 2: miền trung, 3: miền nam): '))"
   ]
  },
  {
   "cell_type": "code",
   "execution_count": 21,
   "metadata": {},
   "outputs": [],
   "source": [
    "C_list = []\n",
    "dia_diem_dict = {'Miền bắc': 1, 'Miền nam': 2, 'Miền trung': 3}"
   ]
  },
  {
   "cell_type": "code",
   "execution_count": 22,
   "metadata": {},
   "outputs": [
    {
     "data": {
      "text/html": [
       "<div>\n",
       "<style scoped>\n",
       "    .dataframe tbody tr th:only-of-type {\n",
       "        vertical-align: middle;\n",
       "    }\n",
       "\n",
       "    .dataframe tbody tr th {\n",
       "        vertical-align: top;\n",
       "    }\n",
       "\n",
       "    .dataframe thead th {\n",
       "        text-align: right;\n",
       "    }\n",
       "</style>\n",
       "<table border=\"1\" class=\"dataframe\">\n",
       "  <thead>\n",
       "    <tr style=\"text-align: right;\">\n",
       "      <th></th>\n",
       "      <th>Tên trường</th>\n",
       "      <th>Chuyên ngành</th>\n",
       "      <th>Học phí</th>\n",
       "      <th>Đánh giá</th>\n",
       "      <th>Địa điểm</th>\n",
       "      <th>Điểm dự kiến</th>\n",
       "      <th>Điểm chuẩn năm trước</th>\n",
       "      <th>Chỉ tiêu</th>\n",
       "    </tr>\n",
       "  </thead>\n",
       "  <tbody>\n",
       "    <tr>\n",
       "      <th>0</th>\n",
       "      <td>Đại học ABC</td>\n",
       "      <td>Khoa Kỹ thuật</td>\n",
       "      <td>20000000</td>\n",
       "      <td>0.0</td>\n",
       "      <td>Miền bắc</td>\n",
       "      <td>28.0</td>\n",
       "      <td>27.5</td>\n",
       "      <td>200</td>\n",
       "    </tr>\n",
       "    <tr>\n",
       "      <th>1</th>\n",
       "      <td>Đại học XYZ</td>\n",
       "      <td>Khoa Kinh doanh</td>\n",
       "      <td>25000000</td>\n",
       "      <td>0.5</td>\n",
       "      <td>Miền bắc</td>\n",
       "      <td>29.5</td>\n",
       "      <td>28.0</td>\n",
       "      <td>150</td>\n",
       "    </tr>\n",
       "    <tr>\n",
       "      <th>2</th>\n",
       "      <td>Đại học LMN</td>\n",
       "      <td>Khoa Nghệ thuật</td>\n",
       "      <td>18000000</td>\n",
       "      <td>1.0</td>\n",
       "      <td>Miền nam</td>\n",
       "      <td>26.0</td>\n",
       "      <td>25.5</td>\n",
       "      <td>180</td>\n",
       "    </tr>\n",
       "    <tr>\n",
       "      <th>3</th>\n",
       "      <td>Đại học PQR</td>\n",
       "      <td>Khoa Y học</td>\n",
       "      <td>30000000</td>\n",
       "      <td>0.0</td>\n",
       "      <td>Miền bắc</td>\n",
       "      <td>27.5</td>\n",
       "      <td>27.0</td>\n",
       "      <td>120</td>\n",
       "    </tr>\n",
       "    <tr>\n",
       "      <th>4</th>\n",
       "      <td>Đại học UVW</td>\n",
       "      <td>Khoa Khoa học Xã hội</td>\n",
       "      <td>22000000</td>\n",
       "      <td>0.5</td>\n",
       "      <td>Miền nam</td>\n",
       "      <td>25.5</td>\n",
       "      <td>25.0</td>\n",
       "      <td>160</td>\n",
       "    </tr>\n",
       "  </tbody>\n",
       "</table>\n",
       "</div>"
      ],
      "text/plain": [
       "    Tên trường          Chuyên ngành   Học phí  Đánh giá  Địa điểm  \\\n",
       "0  Đại học ABC         Khoa Kỹ thuật  20000000       0.0  Miền bắc   \n",
       "1  Đại học XYZ       Khoa Kinh doanh  25000000       0.5  Miền bắc   \n",
       "2  Đại học LMN       Khoa Nghệ thuật  18000000       1.0  Miền nam   \n",
       "3  Đại học PQR            Khoa Y học  30000000       0.0  Miền bắc   \n",
       "4  Đại học UVW  Khoa Khoa học Xã hội  22000000       0.5  Miền nam   \n",
       "\n",
       "   Điểm dự kiến  Điểm chuẩn năm trước  Chỉ tiêu  \n",
       "0          28.0                  27.5       200  \n",
       "1          29.5                  28.0       150  \n",
       "2          26.0                  25.5       180  \n",
       "3          27.5                  27.0       120  \n",
       "4          25.5                  25.0       160  "
      ]
     },
     "execution_count": 22,
     "metadata": {},
     "output_type": "execute_result"
    }
   ],
   "source": [
    "df.head()"
   ]
  },
  {
   "cell_type": "code",
   "execution_count": 23,
   "metadata": {},
   "outputs": [],
   "source": [
    "for i in range(len(df)):\n",
    "\n",
    "    A1 = df['Học phí'][i]\n",
    "    A2 = df['Đánh giá'][i]\n",
    "    A3 = dia_diem_dict[df['Địa điểm'][i]]\n",
    "    A4 = df['Điểm dự kiến'][i]\n",
    "    A5 = df['Điểm chuẩn năm trước'][i]\n",
    "    A6 = df['Chỉ tiêu'][i]\n",
    "\n",
    "    # Sự phù hợp về học phí\n",
    "    if B1 >= 2 * A1:\n",
    "        C1 = 1\n",
    "    elif B1 <= A1:\n",
    "        C1 = 0\n",
    "    else:\n",
    "        C1 = (B1 - A1) / A1\n",
    "\n",
    "    # Đánh giá trường\n",
    "    C2 = A2\n",
    "\n",
    "    # Sự phù hợp về địa điểm\n",
    "    if abs(A3-B3)==0:\n",
    "        C3=1\n",
    "    elif abs(A3-B3)==1:\n",
    "        C3=0.5\n",
    "    else:\n",
    "        C3=0\n",
    "\n",
    "    # Sự phù hợp về điểm thi\n",
    "    C4 = (B2 - (A4 - abs(A5 - A4))) / (2 * abs(A5 - A4))\n",
    "    C4 = max(0, min(1, C4)) # Giới hạn C4 trong khoảng [0, 1]\n",
    "\n",
    "    # Sự phù hợp về chỉ tiêu\n",
    "    C5 = A6\n",
    "\n",
    "    # Tạo một mảng để lưu trữ các giá trị của bảng quyết định\n",
    "    C = np.array([C1, C2, C3, C4, C5])\n",
    "\n",
    "    # Thêm mảng vào danh sách\n",
    "    C_list.append(C)"
   ]
  },
  {
   "cell_type": "code",
   "execution_count": 24,
   "metadata": {},
   "outputs": [],
   "source": [
    "# Chuyển đổi danh sách thành một ma trận\n",
    "C_matrix = np.array(C_list)"
   ]
  },
  {
   "cell_type": "code",
   "execution_count": 25,
   "metadata": {},
   "outputs": [],
   "source": [
    "# Chuẩn hóa ma trận theo cột\n",
    "C_matrix = C_matrix / np.sqrt(np.sum(C_matrix ** 2, axis=0))"
   ]
  },
  {
   "cell_type": "code",
   "execution_count": 26,
   "metadata": {},
   "outputs": [],
   "source": [
    "# Giả sử các trọng số của các thuộc tính là như sau\n",
    "W = np.array([0.2, 0.2, 0.2, 0.2, 0.2]) # Trọng số"
   ]
  },
  {
   "cell_type": "code",
   "execution_count": 27,
   "metadata": {},
   "outputs": [],
   "source": [
    "# Nhân ma trận với trọng số\n",
    "C_matrix = C_matrix * W"
   ]
  },
  {
   "cell_type": "code",
   "execution_count": 28,
   "metadata": {},
   "outputs": [
    {
     "name": "stdout",
     "output_type": "stream",
     "text": [
      "Phương án tốt nhất cho thí sinh là: 2\n",
      "Tên trường                  Đại học LMN\n",
      "Chuyên ngành            Khoa Nghệ thuật\n",
      "Học phí                        18000000\n",
      "Đánh giá                            1.0\n",
      "Địa điểm                       Miền nam\n",
      "Điểm dự kiến                       26.0\n",
      "Điểm chuẩn năm trước               25.5\n",
      "Chỉ tiêu                            180\n",
      "Name: 2, dtype: object\n"
     ]
    }
   ],
   "source": [
    "# Tính phương án tối ưu và phương án tệ nhất\n",
    "A_opt = np.max(C_matrix, axis=0) # Phương án tối ưu\n",
    "A_worst = np.min(C_matrix, axis=0) # Phương án tệ nhất\n",
    "\n",
    "# Tính khoảng cách từ mỗi phương án đến phương án tối ưu và phương án tệ nhất\n",
    "D_opt = np.sqrt(np.sum((C_matrix - A_opt) ** 2, axis=1)) # Khoảng cách đến phương án tối ưu\n",
    "D_worst = np.sqrt(np.sum((C_matrix - A_worst) ** 2, axis=1)) # Khoảng cách đến phương án tệ nhất\n",
    "\n",
    "# Tính độ tương tự với phương án tối ưu và phương án tệ nhất\n",
    "S = D_worst / (D_opt + D_worst) # Độ tương tự\n",
    "\n",
    "# Chọn phương án có độ tương tự cao nhất là phương án tốt nhất cho bài toán\n",
    "best_index = np.argmax(S) # Chỉ số của phần tử lớn nhất trong mảng\n",
    "print(f\"Phương án tốt nhất cho thí sinh là: {best_index}\")\n",
    "print(df.iloc[best_index])"
   ]
  },
  {
   "cell_type": "code",
   "execution_count": null,
   "metadata": {},
   "outputs": [],
   "source": []
  }
 ],
 "metadata": {
  "kernelspec": {
   "display_name": "Python 3",
   "language": "python",
   "name": "python3"
  },
  "language_info": {
   "codemirror_mode": {
    "name": "ipython",
    "version": 3
   },
   "file_extension": ".py",
   "mimetype": "text/x-python",
   "name": "python",
   "nbconvert_exporter": "python",
   "pygments_lexer": "ipython3",
   "version": "3.11.6"
  }
 },
 "nbformat": 4,
 "nbformat_minor": 2
}
