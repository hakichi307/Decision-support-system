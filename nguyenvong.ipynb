{
 "cells": [
  {
   "cell_type": "code",
   "execution_count": 1,
   "metadata": {},
   "outputs": [],
   "source": [
    "#Import numpy để tính toán ma trận và vector\n",
    "import numpy as np\n",
    "# Import pandas để đọc file excel\n",
    "import pandas as pd"
   ]
  },
  {
   "cell_type": "markdown",
   "metadata": {},
   "source": [
    "pip install openpyxl"
   ]
  },
  {
   "cell_type": "code",
   "execution_count": 4,
   "metadata": {},
   "outputs": [],
   "source": [
    "# Đọc file excel vào một DataFrame\n",
    "# Đường dẫn đến file Excel trên máy tính\n",
    "#excel_file_path = r'E:/Hoctap/HocKi_7/He ho tro quyet dinh/Dieuchinhnguyenvong/Book1.xlsx'\n",
    "excel_file_path = 'E:\\\\Hoctap\\\\HocKi_7\\\\He ho tro quyet dinh\\\\Dieuchinhnguyenvong\\\\Book1.xlsx'\n",
    "\n",
    "# Đọc file Excel thành DataFrame\n",
    "df = pd.read_excel(excel_file_path, sheet_name='Sheet1')"
   ]
  },
  {
   "cell_type": "markdown",
   "metadata": {},
   "source": [
    "Nhập các thông tin riêng của thí sinh từ bàn phím"
   ]
  },
  {
   "cell_type": "code",
   "execution_count": 2,
   "metadata": {},
   "outputs": [],
   "source": [
    "B1 = float(input('Nhập học phí: ')) # Học phí\n",
    "B2 = float(input('Nhập điểm thi: ')) # Điểm thi\n",
    "B3 = int(input('Nhập địa điểm (1: miền bắc, 2: miền trung, 3: miền nam): ')) # Địa điểm\n",
    "B4 = input('Nhập ngành học: ') # Ngành học"
   ]
  },
  {
   "cell_type": "code",
   "execution_count": 3,
   "metadata": {},
   "outputs": [
    {
     "ename": "NameError",
     "evalue": "name 'df' is not defined",
     "output_type": "error",
     "traceback": [
      "\u001b[1;31m---------------------------------------------------------------------------\u001b[0m",
      "\u001b[1;31mNameError\u001b[0m                                 Traceback (most recent call last)",
      "\u001b[1;32me:\\Hoctap\\HocKi_7\\He ho tro quyet dinh\\Dieuchinhnguyenvong\\nguyenvong.ipynb Cell 6\u001b[0m line \u001b[0;36m1\n\u001b[0;32m      <a href='vscode-notebook-cell:/e%3A/Hoctap/HocKi_7/He%20ho%20tro%20quyet%20dinh/Dieuchinhnguyenvong/nguyenvong.ipynb#X11sZmlsZQ%3D%3D?line=8'>9</a>\u001b[0m C_list \u001b[39m=\u001b[39m []\n\u001b[0;32m     <a href='vscode-notebook-cell:/e%3A/Hoctap/HocKi_7/He%20ho%20tro%20quyet%20dinh/Dieuchinhnguyenvong/nguyenvong.ipynb#X11sZmlsZQ%3D%3D?line=10'>11</a>\u001b[0m \u001b[39m# Duyệt qua các hàng của DataFrame\u001b[39;00m\n\u001b[1;32m---> <a href='vscode-notebook-cell:/e%3A/Hoctap/HocKi_7/He%20ho%20tro%20quyet%20dinh/Dieuchinhnguyenvong/nguyenvong.ipynb#X11sZmlsZQ%3D%3D?line=11'>12</a>\u001b[0m \u001b[39mfor\u001b[39;00m i \u001b[39min\u001b[39;00m \u001b[39mrange\u001b[39m(\u001b[39mlen\u001b[39m(df)):\n\u001b[0;32m     <a href='vscode-notebook-cell:/e%3A/Hoctap/HocKi_7/He%20ho%20tro%20quyet%20dinh/Dieuchinhnguyenvong/nguyenvong.ipynb#X11sZmlsZQ%3D%3D?line=12'>13</a>\u001b[0m     \u001b[39m# Khởi tạo các biến và tính các thành phần của bảng quyết định\u001b[39;00m\n\u001b[0;32m     <a href='vscode-notebook-cell:/e%3A/Hoctap/HocKi_7/He%20ho%20tro%20quyet%20dinh/Dieuchinhnguyenvong/nguyenvong.ipynb#X11sZmlsZQ%3D%3D?line=13'>14</a>\u001b[0m     A1 \u001b[39m=\u001b[39m df[\u001b[39m'\u001b[39m\u001b[39mHọc phí\u001b[39m\u001b[39m'\u001b[39m][i] \u001b[39m# Học phí\u001b[39;00m\n\u001b[0;32m     <a href='vscode-notebook-cell:/e%3A/Hoctap/HocKi_7/He%20ho%20tro%20quyet%20dinh/Dieuchinhnguyenvong/nguyenvong.ipynb#X11sZmlsZQ%3D%3D?line=14'>15</a>\u001b[0m     A2 \u001b[39m=\u001b[39m df[\u001b[39m'\u001b[39m\u001b[39mĐánh giá\u001b[39m\u001b[39m'\u001b[39m][i] \u001b[39m# Đánh giá trường\u001b[39;00m\n",
      "\u001b[1;31mNameError\u001b[0m: name 'df' is not defined"
     ]
    }
   ],
   "source": [
    "# Tạo một danh sách để lưu trữ các giá trị của bảng quyết định\n",
    "\n",
    "\n",
    "\n",
    "dia_diem_dict = {'Miền bắc': 1, 'Miền nam': 2, 'Miền trung': 3}\n",
    "\n",
    "# Duyệt qua các hàng của DataFrame\n",
    "# Tạo một danh sách để lưu trữ các giá trị của bảng quyết định\n",
    "C_list = []\n",
    "\n",
    "# Duyệt qua các hàng của DataFrame\n",
    "for i in range(len(df)):\n",
    "    # Khởi tạo các biến và tính các thành phần của bảng quyết định\n",
    "    A1 = df['Học phí'][i] # Học phí\n",
    "    A2 = df['Đánh giá'][i] # Đánh giá trường\n",
    "    A3 = dia_diem_dict[df['Địa điểm'][i]] # Địa điểm\n",
    "    A4 = df['Điểm dự kiến'][i] # Điểm dự kiến\n",
    "    A5 = df['Điểm chuẩn năm trước'][i] # Điểm chuẩn năm trước\n",
    "    A6 = df['Chỉ tiêu'][i] # Chỉ tiêu\n",
    "\n",
    "    # Sự phù hợp về học phí\n",
    "    if B1 >= 2 * A1:\n",
    "        C1 = 1\n",
    "    elif B1 <= A1:\n",
    "        C1 = 0\n",
    "    else:\n",
    "        C1 = (B1 - A1) / (2 * A1)\n",
    "\n",
    "    # Đánh giá trường\n",
    "    C2 = A2\n",
    "\n",
    "    # Sự phù hợp về địa điểm\n",
    "    C3 = 1 if abs(A3 - B3) <= 2 else 0\n",
    "\n",
    "    # Sự phù hợp về điểm thi\n",
    "    C4 = (B2 - (A4 - abs(A5 - A4))) / (2 * abs(A5 - A4))\n",
    "    C4 = max(0, min(1, C4)) # Giới hạn C4 trong khoảng [0, 1]\n",
    "\n",
    "    # Sự phù hợp về chỉ tiêu\n",
    "    C5 = A6 / np.sqrt(np.sum(A6 ** 2))\n",
    "\n",
    "    # Tạo vectơ C\n",
    "    C = np.array([C1, C2, C3, C4, C5])\n",
    "\n",
    "    # Thêm vectơ C vào danh sách\n",
    "    C_list.append(C)\n",
    "\n",
    "# Chuyển đổi danh sách thành một ma trận\n",
    "C_matrix = np.array(C_list)\n",
    "\n",
    "# Chuẩn hóa ma trận theo cột\n",
    "C_matrix = C_matrix / np.sqrt(np.sum(C_matrix ** 2, axis=0))\n",
    "\n",
    "# Giả sử các trọng số của các thuộc tính là như sau\n",
    "W = np.array([0.2, 0.2, 0.2, 0.2, 0.2]) # Trọng số\n",
    "\n",
    "# Nhân ma trận với trọng số\n",
    "C_matrix = C_matrix * W\n",
    "\n",
    "# Tính phương án tối ưu\n",
    "A_opt = np.max(C_matrix, axis=0) # Phương án tối ưu\n",
    "\n",
    "# Tính khoảng cách từ phương án tối ưu đến các phương án trong ma trận\n",
    "D = np.sqrt(np.sum((C_matrix - A_opt) ** 2, axis=1)) # Khoảng cách\n",
    "\n",
    "# Tìm phương án có khoảng cách ngắn nhất\n",
    "min_index = np.argmin(D) # Chỉ số của phần tử nhỏ nhất trong mảng\n",
    "print(f\"Phương án tốt nhất cho thí sinh là: {min_index + 1}\")"
   ]
  }
 ],
 "metadata": {
  "kernelspec": {
   "display_name": "Python 3",
   "language": "python",
   "name": "python3"
  },
  "language_info": {
   "codemirror_mode": {
    "name": "ipython",
    "version": 3
   },
   "file_extension": ".py",
   "mimetype": "text/x-python",
   "name": "python",
   "nbconvert_exporter": "python",
   "pygments_lexer": "ipython3",
   "version": "3.11.6"
  }
 },
 "nbformat": 4,
 "nbformat_minor": 2
}
