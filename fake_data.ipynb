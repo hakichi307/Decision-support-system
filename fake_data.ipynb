{
 "cells": [
  {
   "cell_type": "code",
   "execution_count": 1,
   "metadata": {},
   "outputs": [],
   "source": [
    "import csv\n",
    "import random"
   ]
  },
  {
   "cell_type": "code",
   "execution_count": 4,
   "metadata": {},
   "outputs": [],
   "source": [
    "# Function to generate fake data\n",
    "def generate_fake_data():\n",
    "    truong = [\"Đại học ABC\", \"Đại học XYZ\", \"Đại học LMN\"]\n",
    "    chuyen_nganh = [\"Khoa Kỹ thuật\", \"Khoa Kinh doanh\", \"Khoa Nghệ thuật\"]\n",
    "    hoc_phi = [20000000, 25000000, 18000000]\n",
    "    danh_gia = [0, 0.5, 1]\n",
    "    dia_diem = [\"Miền bắc\", \"Miền nam\", \"Miền trung\"]\n",
    "    diem_du_kien = [round(random.uniform(25, 30), 2) for _ in range(3)]\n",
    "    diem_chuan_nam_truoc = [round(random.uniform(25, 29.8), 2) for _ in range(3)]\n",
    "    chi_tieu = [random.randint(100, 200) for _ in range(3)]\n",
    "\n",
    "    fake_data = zip(truong, chuyen_nganh, hoc_phi, danh_gia, dia_diem, diem_du_kien, diem_chuan_nam_truoc, chi_tieu)\n",
    "\n",
    "    return fake_data\n",
    "\n",
    "# Function to write fake data to CSV file\n",
    "def write_fake_data_to_csv(filename, fake_data):\n",
    "    with open(filename, mode='w', newline='', encoding='utf-8') as file:\n",
    "        writer = csv.writer(file)\n",
    "        writer.writerow(['Tên trường', 'Chuyên ngành', 'Học phí', 'Đánh giá', 'Địa điểm', 'Điểm dự kiến', 'Điểm chuẩn năm trước', 'Chỉ tiêu'])\n",
    "        writer.writerows(fake_data)"
   ]
  },
  {
   "cell_type": "code",
   "execution_count": 6,
   "metadata": {},
   "outputs": [],
   "source": [
    "# Generate fake data\n",
    "fake_data = generate_fake_data()\n",
    "\n",
    "# Write fake data to CSV file\n",
    "write_fake_data_to_csv('Book2.csv', fake_data)"
   ]
  },
  {
   "cell_type": "code",
   "execution_count": 7,
   "metadata": {},
   "outputs": [],
   "source": [
    "# Function to generate additional fake data\n",
    "def generate_additional_fake_data():\n",
    "    truong = [\"Đại học RST\", \"Đại học KLM\", \"Đại học OPQ\"]\n",
    "    chuyen_nganh = [\"Khoa Y học\", \"Khoa Kỹ thuật\", \"Khoa Kinh doanh\"]\n",
    "    hoc_phi = [32000000, 19000000, 24000000]\n",
    "    danh_gia = [1, 0.5, 1]\n",
    "    dia_diem = [\"Miền bắc\", \"Miền trung\", \"Miền nam\"]\n",
    "    diem_du_kien = [round(random.uniform(25, 30), 2) for _ in range(30)]\n",
    "    diem_chuan_nam_truoc = [round(random.uniform(25, 29.8), 2) for _ in range(30)]\n",
    "    chi_tieu = [random.randint(100, 200) for _ in range(30)]\n",
    "\n",
    "    additional_fake_data = zip(truong, chuyen_nganh, hoc_phi, danh_gia, dia_diem, diem_du_kien, diem_chuan_nam_truoc, chi_tieu)\n",
    "\n",
    "    return additional_fake_data\n",
    "\n",
    "# Function to append additional fake data to existing CSV file\n",
    "def append_additional_fake_data_to_csv(filename, additional_fake_data):\n",
    "    with open(filename, mode='a', newline='', encoding='utf-8') as file:\n",
    "        writer = csv.writer(file)\n",
    "        writer.writerows(additional_fake_data)\n",
    "\n",
    "# Generate additional fake data\n",
    "additional_fake_data = generate_additional_fake_data()\n",
    "\n",
    "# Append additional fake data to existing CSV file\n",
    "append_additional_fake_data_to_csv('Book2.csv', additional_fake_data)"
   ]
  }
 ],
 "metadata": {
  "kernelspec": {
   "display_name": "Python 3",
   "language": "python",
   "name": "python3"
  },
  "language_info": {
   "codemirror_mode": {
    "name": "ipython",
    "version": 3
   },
   "file_extension": ".py",
   "mimetype": "text/x-python",
   "name": "python",
   "nbconvert_exporter": "python",
   "pygments_lexer": "ipython3",
   "version": "3.11.6"
  }
 },
 "nbformat": 4,
 "nbformat_minor": 2
}
